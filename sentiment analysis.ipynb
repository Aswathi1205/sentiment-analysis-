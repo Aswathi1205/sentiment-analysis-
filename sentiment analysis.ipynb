{
 "cells": [
  {
   "cell_type": "code",
   "execution_count": null,
   "metadata": {},
   "outputs": [
    {
     "name": "stdout",
     "output_type": "stream",
     "text": [
      "\n",
      "📄 Article Summary:\n",
      "📝 BBC News is to create a new department that will use AI to give the public more personalised content, as its leader said the corporation had been “defying gravity” in reaching audiences amid seismic changes in the way news is consumed. \n",
      "\n",
      "📝 In a note to staff seen by the Guardian, Deborah Turness, the chief executive of BBC News, announced an overhaul of the organisation’s structure, including the creation of a new department, BBC News growth, innovation and AI. \n",
      "\n",
      "📝 It will have a particular focus on under-25s, amid a huge shift to news consumption on smartphones and on platforms such as TikTok. \n",
      "\n",
      "📝 Turness said the corporation had to act fast to counter a series of headwinds including “the growing trend of news avoidance, the growth of news consumption on social platforms, increased digital competition and inevitable broadcast decline”. \n",
      "\n",
      "📝 It is understood that measures could include deploying AI to curate stories for users on their phones, based on their previous consumption, in a way that suits those used to consuming content served up by social media. \n",
      "\n",
      "🔍 Sentiment Analysis Result:\n",
      "➡️ Overall Tone: Positive\n",
      "🟢 Polarity Score: 0.07\n",
      "📝 Subjectivity Score: 0.47\n"
     ]
    }
   ],
   "source": [
    "from newspaper import Article\n",
    "from textblob import TextBlob\n",
    "\n",
    "url = input(\"🔗 Enter the news article URL: \")\n",
    "\n",
    "\n",
    "article = Article(url, fetch_images=False) \n",
    "article.download()  \n",
    "\n",
    "\n",
    "if not article.html:\n",
    "    print(\"❌ Failed to download the article. Please check the URL and try again.\")\n",
    "else:\n",
    "    article.parse()  \n",
    "\n",
    "  \n",
    "    text_to_analyze = article.text[:2000]  # First 2000 characters\n",
    "\n",
    "\n",
    "    blob = TextBlob(text_to_analyze)\n",
    "    sentiment = blob.sentiment\n",
    "\n",
    "    print(\"\\n📄 Article Summary:\")\n",
    "    \n",
    "\n",
    "    for sentence in blob.sentences[:5]:\n",
    "        print(\"📝\", sentence, \"\\n\")\n",
    "\n",
    "    print(\"🔍 Sentiment Analysis Result:\")\n",
    "    print(f\"➡️ Overall Tone: {'Positive' if sentiment.polarity > 0 else 'Negative' if sentiment.polarity < 0 else 'Neutral'}\")\n",
    "    print(f\"🟢 Polarity Score: {sentiment.polarity:.2f}\")\n",
    "    print(f\"📝 Subjectivity Score: {sentiment.subjectivity:.2f}\")\n"
   ]
  }
 ],
 "metadata": {
  "kernelspec": {
   "display_name": "Python 3",
   "language": "python",
   "name": "python3"
  },
  "language_info": {
   "codemirror_mode": {
    "name": "ipython",
    "version": 3
   },
   "file_extension": ".py",
   "mimetype": "text/x-python",
   "name": "python",
   "nbconvert_exporter": "python",
   "pygments_lexer": "ipython3",
   "version": "3.10.11"
  }
 },
 "nbformat": 4,
 "nbformat_minor": 2
}
